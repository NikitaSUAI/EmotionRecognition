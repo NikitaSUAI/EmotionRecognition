{
  "nbformat": 4,
  "nbformat_minor": 0,
  "metadata": {
    "colab": {
      "provenance": [],
      "authorship_tag": "ABX9TyOWz81Y80o37BEm1ZBoIorQ",
      "include_colab_link": true
    },
    "kernelspec": {
      "name": "python3",
      "display_name": "Python 3"
    },
    "language_info": {
      "name": "python"
    }
  },
  "cells": [
    {
      "cell_type": "markdown",
      "metadata": {
        "id": "view-in-github",
        "colab_type": "text"
      },
      "source": [
        "<a href=\"https://colab.research.google.com/github/NikitaSUAI/EmotionRecognition/blob/main/Union_results.ipynb\" target=\"_parent\"><img src=\"https://colab.research.google.com/assets/colab-badge.svg\" alt=\"Open In Colab\"/></a>"
      ]
    },
    {
      "cell_type": "code",
      "execution_count": 3,
      "metadata": {
        "colab": {
          "base_uri": "https://localhost:8080/"
        },
        "id": "NtNFoRTs_MO5",
        "outputId": "00ea2497-d218-4a5e-cea6-638f25fda3cb"
      },
      "outputs": [
        {
          "output_type": "stream",
          "name": "stdout",
          "text": [
            "Mounted at /content/drive\n"
          ]
        }
      ],
      "source": [
        "import pickle\n",
        "import torch\n",
        "from pathlib import Path\n",
        "from google.colab import drive\n",
        "drive.mount('/content/drive')\n",
        "\n",
        "# !cp -r '/content/drive/MyDrive/OMG_EMO' 'OMG_EMO'\n",
        "\n",
        "BASE_PATH = Path(\"/content/drive/MyDrive/OMG_EMO\")\n",
        "\n",
        "TRAIN_PATH = BASE_PATH / \"train_set.csv\"\n",
        "VAL_PATH = BASE_PATH / \"val_set.csv\"\n",
        "TEST_PATH = BASE_PATH / \"test_set.csv\"\n"
      ]
    },
    {
      "cell_type": "code",
      "source": [
        "import pandas as pd\n",
        "\n",
        "train_df = pd.read_csv(TRAIN_PATH).dropna()\n",
        "val_df = pd.read_csv(VAL_PATH).dropna()\n",
        "test_df = pd.read_csv(TEST_PATH).dropna()"
      ],
      "metadata": {
        "id": "gcrBYmpjEi5j"
      },
      "execution_count": 18,
      "outputs": []
    },
    {
      "cell_type": "code",
      "source": [
        "import numpy as np\n",
        "\n",
        "experiments = [\n",
        "    \"FB_NoVAD_mv3_multytask_CE+MSE\",\n",
        "    \"opensmile_FNN_multytask_CE+MSE\",\n",
        "    \"Fbanks_FNN_multytask_CE+MSE\",\n",
        "    \"W2V_FNN_multytask_CE+MSE\",\n",
        "    \"TF-IDF_FNN_multytask_CE+MSE\",\n",
        "    \"W2V_RNN_multytask_CE+MSE\"\n",
        "]\n",
        "\n",
        "train_res, test_res = {}, {}\n",
        "for EXPIREMENT_NAME in experiments:\n",
        "  with open(f\"/content/drive/MyDrive/OMG_EMO/unswers/{EXPIREMENT_NAME}_train.pkl\", \"rb\") as f:\n",
        "    train_res[EXPIREMENT_NAME] = pickle.load(f)\n",
        "    train_res[EXPIREMENT_NAME] = {path : np.concatenate((val[0][0].numpy(), val[1][0].numpy(), val[2][0].numpy())) for val, path in zip(*train_res[EXPIREMENT_NAME])}\n",
        "  with open(f\"/content/drive/MyDrive/OMG_EMO/unswers/{EXPIREMENT_NAME}_test.pkl\", \"rb\") as f:\n",
        "    test_res[EXPIREMENT_NAME] = pickle.load(f)\n",
        "    test_res[EXPIREMENT_NAME] = {path : np.concatenate((val[0][0].numpy(), val[1][0].numpy(), val[2][0].numpy())) for val, path in zip(*test_res[EXPIREMENT_NAME])}"
      ],
      "metadata": {
        "id": "RjJitpJL_YSC"
      },
      "execution_count": 40,
      "outputs": []
    },
    {
      "cell_type": "code",
      "source": [
        "train_res[\"FB_NoVAD_mv3_multytask_CE+MSE\"][\"train/71091df7b_6/utterance_79.wav\"]"
      ],
      "metadata": {
        "colab": {
          "base_uri": "https://localhost:8080/"
        },
        "id": "HU5i37ROBFN4",
        "outputId": "6d550725-bc84-4c10-f953-f7b0739dac6f"
      },
      "execution_count": 41,
      "outputs": [
        {
          "output_type": "execute_result",
          "data": {
            "text/plain": [
              "array([ 0.11388326,  0.06285179, -0.0297657 , -0.36670518, -0.4732749 ,\n",
              "        0.08678203,  0.2734528 , -0.21933964,  0.54604924], dtype=float32)"
            ]
          },
          "metadata": {},
          "execution_count": 41
        }
      ]
    },
    {
      "cell_type": "code",
      "source": [
        "feats_val = dict()\n",
        "feats_train = dict()\n",
        "for EXPIREMENT_NAME in experiments:\n",
        "  feats_val[EXPIREMENT_NAME] = []\n",
        "  for idx, row in val_df.iterrows():\n",
        "    feats_val[EXPIREMENT_NAME].append(test_res[EXPIREMENT_NAME][row.path])\n",
        "  feats_val[EXPIREMENT_NAME] = np.stack(feats_val[EXPIREMENT_NAME])\n",
        "\n",
        "  feats_train[EXPIREMENT_NAME] = []\n",
        "  for idx, row in pd.concat([train_df, test_df]).iterrows():\n",
        "    feats_train[EXPIREMENT_NAME].append(train_res[EXPIREMENT_NAME][row.path])\n",
        "  feats_train[EXPIREMENT_NAME] = np.stack(feats_train[EXPIREMENT_NAME])"
      ],
      "metadata": {
        "id": "5_msffSkELpd"
      },
      "execution_count": 46,
      "outputs": []
    },
    {
      "cell_type": "code",
      "source": [
        "np.concatenate((feats_train[EXPIREMENT_NAME], feats_train[EXPIREMENT_NAME]), axis=1).shape"
      ],
      "metadata": {
        "colab": {
          "base_uri": "https://localhost:8080/"
        },
        "id": "Kx0ObQ7EHB3U",
        "outputId": "0668cee4-8962-4ff2-e39c-d6598671fd24"
      },
      "execution_count": 52,
      "outputs": [
        {
          "output_type": "execute_result",
          "data": {
            "text/plain": [
              "(3087, 18)"
            ]
          },
          "metadata": {},
          "execution_count": 52
        }
      ]
    },
    {
      "cell_type": "code",
      "source": [
        "train_set = np.concatenate([feats_train[EXPIREMENT_NAME] for EXPIREMENT_NAME in experiments])\n",
        "test_set = np.concatenate([feats_val[EXPIREMENT_NAME] for EXPIREMENT_NAME in experiments])"
      ],
      "metadata": {
        "id": "6VkCIbF0JLlG"
      },
      "execution_count": 54,
      "outputs": []
    },
    {
      "cell_type": "code",
      "source": [
        "experiments = [\n",
        "    # \"FB_NoVAD_mv3_multytask_CE+MSE\",\n",
        "    # \"opensmile_FNN_multytask_CE+MSE\",\n",
        "    # \"Fbanks_FNN_multytask_CE+MSE\",\n",
        "    \"W2V_FNN_multytask_CE+MSE\",\n",
        "    # \"TF-IDF_FNN_multytask_CE+MSE\",\n",
        "    \"W2V_RNN_multytask_CE+MSE\"\n",
        "]\n",
        "\n",
        "avg = np.mean(np.stack([feats_val[EXPIREMENT_NAME] for EXPIREMENT_NAME in experiments], axis=0), axis=0)"
      ],
      "metadata": {
        "id": "PjDMU5lwJqTA"
      },
      "execution_count": 138,
      "outputs": []
    },
    {
      "cell_type": "code",
      "source": [
        "result = np.stack([np.argmax(avg[:, 0:7], axis=1), avg[:, 7], avg[:, 8]])"
      ],
      "metadata": {
        "id": "lnLkRUjoJ0R6"
      },
      "execution_count": 139,
      "outputs": []
    },
    {
      "cell_type": "code",
      "source": [
        "from sklearn.metrics import f1_score\n",
        "from scipy.stats import pearsonr\n",
        "\n",
        "def ccc(y_true, y_pred, **kwargs):\n",
        "    true_mean = np.mean(y_true)\n",
        "    true_variance = np.var(y_true)\n",
        "    pred_mean = np.mean(y_pred)\n",
        "    pred_variance = np.var(y_pred)\n",
        "\n",
        "    rho,_ = pearsonr(y_pred,y_true)\n",
        "\n",
        "    std_predictions = np.std(y_pred)\n",
        "\n",
        "    std_gt = np.std(y_true)\n",
        "\n",
        "\n",
        "    ccc = 2 * rho * std_gt * std_predictions / (\n",
        "        std_predictions ** 2 + std_gt ** 2 +\n",
        "        (pred_mean - true_mean) ** 2)\n",
        "\n",
        "    return float(ccc)\n",
        "\n",
        "(f1_score(val_df.EmotionMaxVote.to_numpy(), result[0], average='macro'),\n",
        " f1_score(val_df.EmotionMaxVote.to_numpy(), result[0], average='micro'), \n",
        " ccc(val_df.valence.to_numpy(), result[1], average='micro'),\n",
        " ccc(val_df.arousal.to_numpy(), result[2], average='micro'))"
      ],
      "metadata": {
        "colab": {
          "base_uri": "https://localhost:8080/"
        },
        "id": "h1WVeCv4KYC0",
        "outputId": "788c2b25-4e65-49f6-d22b-87b00cd7ddb2"
      },
      "execution_count": 140,
      "outputs": [
        {
          "output_type": "execute_result",
          "data": {
            "text/plain": [
              "(0.175604562188185,\n",
              " 0.3293768545994065,\n",
              " 0.18273164840005143,\n",
              " -0.016124844206148497)"
            ]
          },
          "metadata": {},
          "execution_count": 140
        }
      ]
    },
    {
      "cell_type": "code",
      "source": [],
      "metadata": {
        "id": "SvbEv5yRMXq9"
      },
      "execution_count": 137,
      "outputs": []
    }
  ]
}