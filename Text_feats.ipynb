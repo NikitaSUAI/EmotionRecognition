{
  "nbformat": 4,
  "nbformat_minor": 0,
  "metadata": {
    "colab": {
      "provenance": [],
      "authorship_tag": "ABX9TyMKiklI5AFrECkQddtXDUQe",
      "include_colab_link": true
    },
    "kernelspec": {
      "name": "python3",
      "display_name": "Python 3"
    },
    "language_info": {
      "name": "python"
    }
  },
  "cells": [
    {
      "cell_type": "markdown",
      "metadata": {
        "id": "view-in-github",
        "colab_type": "text"
      },
      "source": [
        "<a href=\"https://colab.research.google.com/github/NikitaSUAI/EmotionRecognition/blob/main/Text_feats.ipynb\" target=\"_parent\"><img src=\"https://colab.research.google.com/assets/colab-badge.svg\" alt=\"Open In Colab\"/></a>"
      ]
    },
    {
      "cell_type": "markdown",
      "source": [
        "# INIT"
      ],
      "metadata": {
        "id": "k5xv7fTobk8L"
      }
    },
    {
      "cell_type": "code",
      "execution_count": 1,
      "metadata": {
        "id": "sas6o3wdGNNW",
        "colab": {
          "base_uri": "https://localhost:8080/"
        },
        "outputId": "3f79a389-52b2-46c7-9564-7d9174762666"
      },
      "outputs": [
        {
          "output_type": "stream",
          "name": "stdout",
          "text": [
            "Mounted at /content/drive\n"
          ]
        }
      ],
      "source": [
        "from pathlib import Path\n",
        "from google.colab import drive\n",
        "drive.mount('/content/drive')\n",
        "\n",
        "# !cp -r '/content/drive/MyDrive/OMG_EMO' 'OMG_EMO'\n",
        "\n",
        "BASE_PATH = Path(\"/content/drive/MyDrive/OMG_EMO\")\n",
        "\n",
        "TRAIN_PATH = BASE_PATH / \"train_set.csv\"\n",
        "VAL_PATH = BASE_PATH / \"val_set.csv\"\n",
        "TEST_PATH = BASE_PATH / \"test_set.csv\""
      ]
    },
    {
      "cell_type": "code",
      "source": [
        "import pandas as pd\n",
        "import matplotlib.pyplot as plt\n",
        "import numpy as np\n",
        "\n",
        "import pandas as pd\n",
        "\n",
        "train_df = pd.read_csv(TRAIN_PATH).dropna()\n",
        "val_df = pd.read_csv(VAL_PATH).dropna()\n",
        "test_df = pd.read_csv(TEST_PATH).dropna()"
      ],
      "metadata": {
        "id": "EMUb0KIObkJq"
      },
      "execution_count": 2,
      "outputs": []
    },
    {
      "cell_type": "markdown",
      "source": [
        "## Word2Vec feats"
      ],
      "metadata": {
        "id": "tleaJnGebn1x"
      }
    },
    {
      "cell_type": "code",
      "source": [
        "import gensim.downloader as api\n",
        "\n",
        "model_wv_gensim = api.load(\"word2vec-google-news-300\")"
      ],
      "metadata": {
        "id": "RC6tUEMtGul5",
        "colab": {
          "base_uri": "https://localhost:8080/"
        },
        "outputId": "3758d5c3-0174-4c58-fd4e-339d2c717f6c"
      },
      "execution_count": 3,
      "outputs": [
        {
          "output_type": "stream",
          "name": "stdout",
          "text": [
            "[==================================================] 100.0% 1662.8/1662.8MB downloaded\n"
          ]
        }
      ]
    },
    {
      "cell_type": "code",
      "source": [
        "!pip install pymystem3\n",
        "import nltk\n",
        "nltk.download('wordnet')\n",
        "nltk.download('omw-1.4')\n",
        "from nltk.stem import WordNetLemmatizer\n",
        "import nltk\n",
        "from nltk.corpus import stopwords\n",
        "nltk.download('stopwords')\n",
        "stop_words = list(set(stopwords.words('english')))\n",
        "\n",
        "lemmatizer = WordNetLemmatizer()\n",
        "\n",
        "def tokenize_lemmatize(sentence):\n",
        "  sentence = re.sub(r'[^\\w\\s]',' ',sentence)\n",
        "  tokens = sentence.lower().strip().split()\n",
        "  lems = [lemmatizer.lemmatize(token) for token in tokens]\n",
        "  lems = [token for token in lems if token not in stop_words]\n",
        "  return lems\n",
        "\n",
        "def get_w2v_features(text):\n",
        "  try:\n",
        "    words = [model_wv_gensim[word] for word in tokenize_lemmatize(text)]\n",
        "    words = np.stack(words)\n",
        "    return words\n",
        "  except :\n",
        "    return None"
      ],
      "metadata": {
        "id": "t03ki0AbHrY7",
        "colab": {
          "base_uri": "https://localhost:8080/"
        },
        "outputId": "712062f5-7130-4f1f-c3a1-22c35a3ba0a7"
      },
      "execution_count": 36,
      "outputs": [
        {
          "output_type": "stream",
          "name": "stdout",
          "text": [
            "Looking in indexes: https://pypi.org/simple, https://us-python.pkg.dev/colab-wheels/public/simple/\n",
            "Requirement already satisfied: pymystem3 in /usr/local/lib/python3.7/dist-packages (0.2.0)\n",
            "Requirement already satisfied: requests in /usr/local/lib/python3.7/dist-packages (from pymystem3) (2.23.0)\n",
            "Requirement already satisfied: urllib3!=1.25.0,!=1.25.1,<1.26,>=1.21.1 in /usr/local/lib/python3.7/dist-packages (from requests->pymystem3) (1.24.3)\n",
            "Requirement already satisfied: chardet<4,>=3.0.2 in /usr/local/lib/python3.7/dist-packages (from requests->pymystem3) (3.0.4)\n",
            "Requirement already satisfied: idna<3,>=2.5 in /usr/local/lib/python3.7/dist-packages (from requests->pymystem3) (2.10)\n",
            "Requirement already satisfied: certifi>=2017.4.17 in /usr/local/lib/python3.7/dist-packages (from requests->pymystem3) (2022.6.15)\n"
          ]
        },
        {
          "output_type": "stream",
          "name": "stderr",
          "text": [
            "[nltk_data] Downloading package wordnet to /root/nltk_data...\n",
            "[nltk_data]   Package wordnet is already up-to-date!\n",
            "[nltk_data] Downloading package omw-1.4 to /root/nltk_data...\n",
            "[nltk_data]   Package omw-1.4 is already up-to-date!\n",
            "[nltk_data] Downloading package stopwords to /root/nltk_data...\n",
            "[nltk_data]   Package stopwords is already up-to-date!\n"
          ]
        }
      ]
    },
    {
      "cell_type": "code",
      "source": [
        "a = get_w2v_features(train_df.iloc[0].transcript)\n",
        "a.shape"
      ],
      "metadata": {
        "colab": {
          "base_uri": "https://localhost:8080/"
        },
        "id": "qUwBwE2ctyUp",
        "outputId": "a86189ea-7745-4f78-95b5-59e1a09ca429"
      },
      "execution_count": 37,
      "outputs": [
        {
          "output_type": "execute_result",
          "data": {
            "text/plain": [
              "(7, 300)"
            ]
          },
          "metadata": {},
          "execution_count": 37
        }
      ]
    },
    {
      "cell_type": "code",
      "source": [
        "import pandas as pd\n",
        "from tqdm import tqdm\n",
        "import pickle\n",
        "\n",
        "tqdm.pandas()\n",
        "\n",
        "subset = train_df\n",
        "segment_features = subset.transcript.progress_apply(get_w2v_features)\n",
        "full_feats = dict()\n",
        "\n",
        "for f, (_, row) in zip(segment_features, subset.iterrows()):\n",
        "  full_feats[row.path] = f\n",
        "\n",
        "with open(\"/content/drive/MyDrive/OMG_EMO/feats/w2v_train.pkl\", \"wb\") as f:\n",
        "  pickle.dump(full_feats, f)"
      ],
      "metadata": {
        "colab": {
          "base_uri": "https://localhost:8080/"
        },
        "id": "I4y0Ubrrt6uh",
        "outputId": "ab991137-2656-477d-82f4-f30ddfaea410"
      },
      "execution_count": 40,
      "outputs": [
        {
          "output_type": "stream",
          "name": "stderr",
          "text": [
            "100%|██████████| 1660/1660 [00:00<00:00, 9276.71it/s]\n"
          ]
        }
      ]
    },
    {
      "cell_type": "code",
      "source": [
        "subset = val_df\n",
        "segment_features = subset.transcript.progress_apply(get_w2v_features)\n",
        "full_feats = dict()\n",
        "\n",
        "for f, (_, row) in zip(segment_features, subset.iterrows()):\n",
        "  full_feats[row.path] = f\n",
        "\n",
        "with open(\"/content/drive/MyDrive/OMG_EMO/feats/w2v_test.pkl\", \"wb\") as f:\n",
        "  pickle.dump(full_feats, f)"
      ],
      "metadata": {
        "colab": {
          "base_uri": "https://localhost:8080/"
        },
        "id": "HCJHcstlw5Il",
        "outputId": "61e0fe8d-756e-4635-d1be-570fd654bb1e"
      },
      "execution_count": 42,
      "outputs": [
        {
          "output_type": "stream",
          "name": "stderr",
          "text": [
            "100%|██████████| 337/337 [00:00<00:00, 1609.81it/s]\n"
          ]
        }
      ]
    },
    {
      "cell_type": "markdown",
      "source": [
        "## TF-IDF"
      ],
      "metadata": {
        "id": "gPuoZr-tx-Ex"
      }
    },
    {
      "cell_type": "code",
      "source": [
        "from sklearn.feature_extraction.text import TfidfVectorizer\n",
        "corpus = val_df.transcript.to_list() + train_df.transcript.to_list()\n",
        "corpus = [\" \".join(tokenize_lemmatize(text)) for text in corpus]\n",
        "\n",
        "vectorizer = TfidfVectorizer()\n",
        "vectorizer.fit(corpus)\n",
        "\n",
        "def get_tf_idf(text):\n",
        "  text = \" \".join(tokenize_lemmatize(text))\n",
        "  return vectorizer.transform([text]).data\n"
      ],
      "metadata": {
        "id": "-t0KJ57s35Ou"
      },
      "execution_count": 51,
      "outputs": []
    },
    {
      "cell_type": "code",
      "source": [
        "subset = train_df\n",
        "segment_features = subset.transcript.progress_apply(get_tf_idf)\n",
        "full_feats = dict()\n",
        "\n",
        "for f, (_, row) in zip(segment_features, subset.iterrows()):\n",
        "  full_feats[row.path] = f\n",
        "\n",
        "with open(\"/content/drive/MyDrive/OMG_EMO/feats/tf_idf_train.pkl\", \"wb\") as f:\n",
        "  pickle.dump(full_feats, f)"
      ],
      "metadata": {
        "colab": {
          "base_uri": "https://localhost:8080/"
        },
        "id": "3maK5F0F4Th4",
        "outputId": "b9b5ef18-5ede-4ff6-9b82-dd9def9831a7"
      },
      "execution_count": 52,
      "outputs": [
        {
          "output_type": "stream",
          "name": "stderr",
          "text": [
            "100%|██████████| 1660/1660 [00:01<00:00, 1392.34it/s]\n"
          ]
        }
      ]
    },
    {
      "cell_type": "code",
      "source": [
        "subset = val_df\n",
        "segment_features = subset.transcript.progress_apply(get_tf_idf)\n",
        "full_feats = dict()\n",
        "\n",
        "for f, (_, row) in zip(segment_features, subset.iterrows()):\n",
        "  full_feats[row.path] = f\n",
        "\n",
        "with open(\"/content/drive/MyDrive/OMG_EMO/feats/tf_idf_test.pkl\", \"wb\") as f:\n",
        "  pickle.dump(full_feats, f)"
      ],
      "metadata": {
        "colab": {
          "base_uri": "https://localhost:8080/"
        },
        "id": "59u23BLZ5eoF",
        "outputId": "f3a82d9e-542b-47fb-9925-47d953598294"
      },
      "execution_count": 53,
      "outputs": [
        {
          "output_type": "stream",
          "name": "stderr",
          "text": [
            "100%|██████████| 337/337 [00:00<00:00, 1393.18it/s]\n"
          ]
        }
      ]
    }
  ]
}